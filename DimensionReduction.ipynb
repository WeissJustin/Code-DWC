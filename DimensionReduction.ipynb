{
 "cells": [
  {
   "cell_type": "markdown",
   "id": "9d32eb58",
   "metadata": {},
   "source": [
    "<img src=\"logo.png\" alt=\"Logo\" style=\"width:180px; float:right;\">\n",
    "\n",
    "<div>\n",
    "<br>\n",
    "\n",
    "# **Dimension Reduction Techniques**"
   ]
  },
  {
   "cell_type": "markdown",
   "id": "fd7c9062",
   "metadata": {},
   "source": [
    "***\n",
    "So far, most of this course has focused on <span style=\"color:silver; font-weight:bold;\">**supervised learning**.</span>\n",
    "The primary goal in supervised learning is to **predict the target value** of a new data sample.\n",
    "A secondary goal is to understand which features influence the target value.  \n",
    "\n",
    " *For example, when predicting house prices, we rely on training data to estimate the price of a new house based on its attributes. We use optimization techniques to improve our model for **accurate predictions**, often without worrying too much about the exact feature weights learned during optimization.*\n",
    "\n",
    "In <span style=\"color:silver; font-weight:bold;\">**unsupervised learning**</span>, the focus shifts. The goal is to **discover what really matters** in the given data. Often, much of the available data is redundant or irrelevant. In such cases, **dimension reduction techniques** help identify the important features and remove unnecessary information, simplifying the dataset while preserving its essential structure.\n",
    "***\n",
    "\n",
    "\n",
    "<div style=\"text-align: center; font-weight: bold; animation: flicker 5s infinite;\">\n",
    "  Thus, in the first part of today's lecture we will look at some dimension reduction techniques!\n",
    "</div>\n",
    "\n",
    "<style>\n",
    "@keyframes flicker {\n",
    "  0%   { color: white; }\n",
    "  20%  { color: silver; }\n",
    "  40%  { color: grey; }\n",
    "  60%  { color: black; }\n",
    "  80% { color: grey; }\n",
    "  100% { color: silver; }\n",
    "}\n",
    "</style>"
   ]
  },
  {
   "cell_type": "code",
   "execution_count": 6,
   "id": "af0f9fd9",
   "metadata": {},
   "outputs": [
    {
     "name": "stdout",
     "output_type": "stream",
     "text": [
      "CPU times: user 2 μs, sys: 1 μs, total: 3 μs\n",
      "Wall time: 4.77 μs\n"
     ]
    }
   ],
   "source": [
    "%%time\n",
    "\n"
   ]
  }
 ],
 "metadata": {
  "kernelspec": {
   "display_name": "Python 3",
   "language": "python",
   "name": "python3"
  },
  "language_info": {
   "codemirror_mode": {
    "name": "ipython",
    "version": 3
   },
   "file_extension": ".py",
   "mimetype": "text/x-python",
   "name": "python",
   "nbconvert_exporter": "python",
   "pygments_lexer": "ipython3",
   "version": "3.13.7"
  }
 },
 "nbformat": 4,
 "nbformat_minor": 5
}
